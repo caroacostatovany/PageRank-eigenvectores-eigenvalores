{
 "cells": [
  {
   "cell_type": "markdown",
   "metadata": {},
   "source": [
    "# PageRank"
   ]
  },
  {
   "cell_type": "markdown",
   "metadata": {},
   "source": [
    "Page Rank se inspira en el modelo **Random Surfers**\n",
    "\n"
   ]
  },
  {
   "cell_type": "markdown",
   "metadata": {},
   "source": [
    "#### Librerías utilizadas"
   ]
  },
  {
   "cell_type": "code",
   "execution_count": 2,
   "metadata": {},
   "outputs": [],
   "source": [
    "import numpy as np\n",
    "import math\n",
    "import pandas as pd\n",
    "# Para las pruebas\n",
    "from pytest import approx\n",
    "import pprint\n",
    "# Para los grafos\n",
    "import networkx as nx\n",
    "import matplotlib.pyplot as plt"
   ]
  },
  {
   "cell_type": "markdown",
   "metadata": {},
   "source": [
    "## Definimos un grafo pequeño"
   ]
  },
  {
   "cell_type": "code",
   "execution_count": 30,
   "metadata": {},
   "outputs": [
    {
     "data": {
      "image/png": "[encoded data removed]",
      "text/plain": [
       "<Figure size 432x288 with 1 Axes>"
      ]
     },
     "metadata": {},
     "output_type": "display_data"
    }
   ],
   "source": [
    "import networkx as nx\n",
    "import matplotlib.pyplot as plt\n",
    "\n",
    "nodos = ['A', 'B', 'C', 'D']\n",
    "\n",
    "G = nx.DiGraph()\n",
    "\n",
    "for nodo in nodos:\n",
    "    G.add_node(nodo)\n",
    "    \n",
    "\n",
    "G.add_edge(\"A\",\"C\")\n",
    "G.add_edge(\"C\",\"A\")\n",
    "G.add_edge(\"A\",\"B\")\n",
    "G.add_edge(\"C\",\"B\")\n",
    "G.add_edge(\"B\",\"D\")\n",
    "G.add_edge(\"C\",\"D\")\n",
    "G.add_edge(\"D\",\"C\")\n",
    "\n",
    "pos = nx.spring_layout(G)\n",
    "\n",
    "nx.draw_networkx_nodes(G, pos)\n",
    "nx.draw_networkx_labels(G, pos)\n",
    "nx.draw_networkx_edges(G, pos, edge_color='r', arrows = True)\n",
    "\n",
    "plt.show()"
   ]
  },
  {
   "cell_type": "markdown",
   "metadata": {},
   "source": [
    "### Definimos nuestra matriz estocástica conforme a lo visto en el grafo:"
   ]
  },
  {
   "cell_type": "code",
   "execution_count": 117,
   "metadata": {},
   "outputs": [
    {
     "name": "stdout",
     "output_type": "stream",
     "text": [
      "     0    1         2    3\n",
      "0  0.0  0.0  0.333333  0.0\n",
      "1  0.5  0.0  0.333333  0.0\n",
      "2  0.5  0.0  0.000000  1.0\n",
      "3  0.0  1.0  0.333333  0.0\n"
     ]
    }
   ],
   "source": [
    "H = np.array([[0, 0, 1/3, 0],\n",
    "              [1/2, 0, 1/3, 0],\n",
    "              [1/2, 0, 0, 1], \n",
    "              [0, 1, 1/3, 0]\n",
    "             ])\n",
    "\n",
    "pprint.pprint(pd.DataFrame(H))"
   ]
  },
  {
   "cell_type": "markdown",
   "metadata": {},
   "source": [
    "## Aplicamos GoogleMatrix"
   ]
  },
  {
   "cell_type": "markdown",
   "metadata": {},
   "source": [
    "La matriz que regresa la función representa la matriz de transición que describe la cadena de Markov utilizada en PageRank. Para que el PageRank converga a una única solución, la matriz de transición debe de ser irreducible y estocástica. En otras palabras, Debe existir un camino entre cada uno de los nodos en el grafo, ---or else there is the potential of “rank sinks.”---"
   ]
  },
  {
   "cell_type": "markdown",
   "metadata": {},
   "source": [
    "Esta función trabaja con Multi(Di)Graphs. Para multigraphs el peso entre dos nodos debe ser la suma de todos los pesos de los edges entre esos nodos."
   ]
  },
  {
   "cell_type": "code",
   "execution_count": 22,
   "metadata": {},
   "outputs": [],
   "source": [
    "from networkx.algorithms.link_analysis.pagerank_alg import google_matrix"
   ]
  },
  {
   "cell_type": "code",
   "execution_count": 26,
   "metadata": {},
   "outputs": [],
   "source": [
    "matrix = google_matrix(G, nodelist=nodos)"
   ]
  },
  {
   "cell_type": "code",
   "execution_count": 40,
   "metadata": {},
   "outputs": [],
   "source": [
    "A = matrix.T"
   ]
  },
  {
   "cell_type": "code",
   "execution_count": 41,
   "metadata": {},
   "outputs": [
    {
     "data": {
      "text/plain": [
       "matrix([[0.0375    , 0.0375    , 0.32083333, 0.0375    ],\n",
       "        [0.4625    , 0.0375    , 0.32083333, 0.0375    ],\n",
       "        [0.4625    , 0.0375    , 0.0375    , 0.8875    ],\n",
       "        [0.0375    , 0.8875    , 0.32083333, 0.0375    ]])"
      ]
     },
     "execution_count": 41,
     "metadata": {},
     "output_type": "execute_result"
    }
   ],
   "source": [
    "A"
   ]
  },
  {
   "cell_type": "markdown",
   "metadata": {},
   "source": [
    "## Lo probamos con QR (el que realizamos en la práctica 2)"
   ]
  },
  {
   "cell_type": "code",
   "execution_count": 32,
   "metadata": {},
   "outputs": [],
   "source": [
    "def sign(x):\n",
    "    \"\"\"\n",
    "    Helper function for computing sign of real number x.\n",
    "    \"\"\"\n",
    "    if x >= 0:\n",
    "        return 1\n",
    "    else:\n",
    "        return -1"
   ]
  },
  {
   "cell_type": "code",
   "execution_count": 35,
   "metadata": {},
   "outputs": [],
   "source": [
    "def inverse_matrix(A):\n",
    "    \"\"\"\n",
    "    Helper function for computing the inverse of matrix A nxn.\n",
    "    \"\"\"\n",
    "    inv_temp = []\n",
    "    \n",
    "    for i in range (0,A.shape[0]): \n",
    "        e1 = np.zeros((A.shape[0],1))\n",
    "        e1[i] = 1\n",
    "        A_inv_i = np.linalg.solve(A.T, e1)\n",
    "        inv_temp.append(A_inv_i)  \n",
    "        \n",
    "    for j in range (0,len(inv_temp)-1):\n",
    "        if j == 0:\n",
    "            r_inv = np.row_stack((inv_temp[j].T, inv_temp[j+1].T))\n",
    "        else:\n",
    "            r_inv = np.row_stack((r_inv, inv_temp[j+1].T))\n",
    "        \n",
    "    return(r_inv)"
   ]
  },
  {
   "cell_type": "code",
   "execution_count": 57,
   "metadata": {},
   "outputs": [],
   "source": [
    "def off(T):\n",
    "    \"\"\"\n",
    "    Helper function for computing off(T).\n",
    "    \"\"\"\n",
    "    mask = np.ones(T.shape, dtype = bool)\n",
    "    np.fill_diagonal(mask, 0)\n",
    "    T_sin_dig = T[mask]\n",
    "    sum = 0\n",
    "    for i in range (0,len(T_sin_dig)):\n",
    "        print (T_sin_dig[i])\n",
    "        sum += T_sin_dig[i]**2\n",
    "    off_T = np.sqrt(sum)\n",
    "    \n",
    "    return(off_T)"
   ]
  },
  {
   "cell_type": "code",
   "execution_count": 53,
   "metadata": {},
   "outputs": [],
   "source": [
    "def QR_Householder(A):\n",
    "    \"\"\"\n",
    "    Decompose a real square matrix A where: A = QR usign Householder reflections.\n",
    "    Args:\n",
    "        A (numpy ndarray): Matrix in which QR algorithm will be performed.\n",
    "    Returns:\n",
    "        Q (numpy ndarray): orthogonal matrix (its columns are orthogonal unit vectors meaning \n",
    "                           Q.T*Q = Q*Q.T = I)\n",
    "        R (numpy ndarray): upper triangular matrix.\n",
    "    \"\"\"\n",
    "        \n",
    "    a_aux = []\n",
    "            \n",
    "    for j in range (0,A.shape[0]-1):          #Asumimos que A SIEMPRE será cuadrada\n",
    "        e = np.zeros((A.shape[0]-j, 1))\n",
    "        e[0] = 1\n",
    "        if j == 0:\n",
    "            v = A[:,0] + sign(A[0,0])*np.linalg.norm(A[:,0])*e.T[0]\n",
    "            beta = 2/v.dot(v)\n",
    "            aux = A[:,0:] - beta*np.outer(v,v.dot(A[:,0:]))\n",
    "            a_aux.append(aux)\n",
    "        else:\n",
    "            v = aux[1:,1] + sign(aux[1,1])*np.linalg.norm(aux[1:,1])*e.T[0]\n",
    "            beta = 2/v.dot(v)  \n",
    "            aux = aux[1:,1:] - beta*np.outer(v,v.dot(aux[1:,1:]))\n",
    "            a_aux.append(aux)\n",
    "        \n",
    "    n,n = A.shape\n",
    "    count = 0\n",
    "    \n",
    "    if n == 2:\n",
    "        R = a_aux[0]\n",
    "    else:\n",
    "        for h in range(n-2,0,-1):\n",
    "            if count == 0:\n",
    "                temp_col = np.column_stack((np.zeros(2 + count), a_aux[h]))\n",
    "            else:\n",
    "                temp_col = np.column_stack((np.zeros(2 + count), temp_row))\n",
    "            temp_row = np.row_stack((a_aux[h-1][0, 0:], temp_col))\n",
    "            count += 1\n",
    "        R = temp_row\n",
    "    R_inv = inverse_matrix(R)\n",
    "    \n",
    "    Q = A@R_inv   \n",
    "\n",
    "    return (Q,R)"
   ]
  },
  {
   "cell_type": "code",
   "execution_count": 54,
   "metadata": {},
   "outputs": [],
   "source": [
    "def Eig_Householder(A):\n",
    "    \"\"\"\n",
    "    Compute QR algorithm usign Householder reflections multiple times to approximate eigenvalues and \n",
    "    eigenvectors of A.\n",
    "    Args:\n",
    "        A (numpy ndarray): Symmetric matrix \n",
    "    Returns:\n",
    "        evalues (numpy ndarray): Array with eigenvalues of matrix A.\n",
    "        evectors (numpy ndarray): Matrix with eigenvectors of matrix A on its columns.\n",
    "    \"\"\"\n",
    "    tol = 10e-8\n",
    "    max_iters = 1000\n",
    "    tk_fro_norm = np.linalg.norm(A, 'fro')\n",
    "    iterations = 0\n",
    "    off_Tk = off(A)\n",
    "    \n",
    "    q_aux = []\n",
    "    \n",
    "    while off_Tk > tol*tk_fro_norm and iterations < max_iters:\n",
    "        iterations += 1\n",
    "        if iterations == 1:\n",
    "            Tk_minus1 = A\n",
    "        else:\n",
    "            Tk_minus1 = Tk\n",
    "        \n",
    "        q,r = QR_Householder(Tk_minus1)    \n",
    "        q_aux.append(q)\n",
    "        \n",
    "        Tk = r@q\n",
    "        \n",
    "        off_Tk = off(Tk)\n",
    "        tk_fro_norm = np.linalg.norm(Tk, 'fro')\n",
    "    \n",
    "    #Multiplicación Q0*Q1...Qn para cálculo de eigenvectores\n",
    "    for g in range(0,len(q_aux)-1,1):\n",
    "        if g == 0:\n",
    "            q_temp = q_aux[g]@q_aux[g+1]\n",
    "        else:\n",
    "            q_temp = q_temp@q_aux[g+1]\n",
    "    \n",
    "    if iterations == 0:\n",
    "        evalues = \"error\"\n",
    "        evectors = \"error\"\n",
    "    else:\n",
    "        evectors = q_temp\n",
    "        evalues = np.diag(Tk)\n",
    "    \n",
    "    return (evalues,evectors)"
   ]
  },
  {
   "cell_type": "code",
   "execution_count": 55,
   "metadata": {},
   "outputs": [
    {
     "ename": "ValueError",
     "evalue": "shapes (4,4) and (16,16) not aligned: 4 (dim 1) != 16 (dim 0)",
     "output_type": "error",
     "traceback": [
      "\u001b[0;31m---------------------------------------------------------------------------\u001b[0m",
      "\u001b[0;31mValueError\u001b[0m                                Traceback (most recent call last)",
      "\u001b[0;32m<ipython-input-55-f8a879059bf2>\u001b[0m in \u001b[0;36m<module>\u001b[0;34m\u001b[0m\n\u001b[0;32m----> 1\u001b[0;31m \u001b[0mq\u001b[0m\u001b[0;34m,\u001b[0m\u001b[0mr\u001b[0m \u001b[0;34m=\u001b[0m \u001b[0mQR_Householder\u001b[0m\u001b[0;34m(\u001b[0m\u001b[0mA\u001b[0m\u001b[0;34m)\u001b[0m\u001b[0;34m\u001b[0m\u001b[0;34m\u001b[0m\u001b[0m\n\u001b[0m",
      "\u001b[0;32m<ipython-input-53-1bb91f419759>\u001b[0m in \u001b[0;36mQR_Householder\u001b[0;34m(A)\u001b[0m\n\u001b[1;32m     18\u001b[0m             \u001b[0mv\u001b[0m \u001b[0;34m=\u001b[0m \u001b[0mA\u001b[0m\u001b[0;34m[\u001b[0m\u001b[0;34m:\u001b[0m\u001b[0;34m,\u001b[0m\u001b[0;36m0\u001b[0m\u001b[0;34m]\u001b[0m \u001b[0;34m+\u001b[0m \u001b[0msign\u001b[0m\u001b[0;34m(\u001b[0m\u001b[0mA\u001b[0m\u001b[0;34m[\u001b[0m\u001b[0;36m0\u001b[0m\u001b[0;34m,\u001b[0m\u001b[0;36m0\u001b[0m\u001b[0;34m]\u001b[0m\u001b[0;34m)\u001b[0m\u001b[0;34m*\u001b[0m\u001b[0mnp\u001b[0m\u001b[0;34m.\u001b[0m\u001b[0mlinalg\u001b[0m\u001b[0;34m.\u001b[0m\u001b[0mnorm\u001b[0m\u001b[0;34m(\u001b[0m\u001b[0mA\u001b[0m\u001b[0;34m[\u001b[0m\u001b[0;34m:\u001b[0m\u001b[0;34m,\u001b[0m\u001b[0;36m0\u001b[0m\u001b[0;34m]\u001b[0m\u001b[0;34m)\u001b[0m\u001b[0;34m*\u001b[0m\u001b[0me\u001b[0m\u001b[0;34m.\u001b[0m\u001b[0mT\u001b[0m\u001b[0;34m[\u001b[0m\u001b[0;36m0\u001b[0m\u001b[0;34m]\u001b[0m\u001b[0;34m\u001b[0m\u001b[0;34m\u001b[0m\u001b[0m\n\u001b[1;32m     19\u001b[0m             \u001b[0mbeta\u001b[0m \u001b[0;34m=\u001b[0m \u001b[0;36m2\u001b[0m\u001b[0;34m/\u001b[0m\u001b[0mv\u001b[0m\u001b[0;34m.\u001b[0m\u001b[0mdot\u001b[0m\u001b[0;34m(\u001b[0m\u001b[0mv\u001b[0m\u001b[0;34m)\u001b[0m\u001b[0;34m\u001b[0m\u001b[0;34m\u001b[0m\u001b[0m\n\u001b[0;32m---> 20\u001b[0;31m             \u001b[0maux\u001b[0m \u001b[0;34m=\u001b[0m \u001b[0mA\u001b[0m\u001b[0;34m[\u001b[0m\u001b[0;34m:\u001b[0m\u001b[0;34m,\u001b[0m\u001b[0;36m0\u001b[0m\u001b[0;34m:\u001b[0m\u001b[0;34m]\u001b[0m \u001b[0;34m-\u001b[0m \u001b[0mbeta\u001b[0m\u001b[0;34m*\u001b[0m\u001b[0mnp\u001b[0m\u001b[0;34m.\u001b[0m\u001b[0mouter\u001b[0m\u001b[0;34m(\u001b[0m\u001b[0mv\u001b[0m\u001b[0;34m,\u001b[0m\u001b[0mv\u001b[0m\u001b[0;34m.\u001b[0m\u001b[0mdot\u001b[0m\u001b[0;34m(\u001b[0m\u001b[0mA\u001b[0m\u001b[0;34m[\u001b[0m\u001b[0;34m:\u001b[0m\u001b[0;34m,\u001b[0m\u001b[0;36m0\u001b[0m\u001b[0;34m:\u001b[0m\u001b[0;34m]\u001b[0m\u001b[0;34m)\u001b[0m\u001b[0;34m)\u001b[0m\u001b[0;34m\u001b[0m\u001b[0;34m\u001b[0m\u001b[0m\n\u001b[0m\u001b[1;32m     21\u001b[0m             \u001b[0ma_aux\u001b[0m\u001b[0;34m.\u001b[0m\u001b[0mappend\u001b[0m\u001b[0;34m(\u001b[0m\u001b[0maux\u001b[0m\u001b[0;34m)\u001b[0m\u001b[0;34m\u001b[0m\u001b[0;34m\u001b[0m\u001b[0m\n\u001b[1;32m     22\u001b[0m         \u001b[0;32melse\u001b[0m\u001b[0;34m:\u001b[0m\u001b[0;34m\u001b[0m\u001b[0;34m\u001b[0m\u001b[0m\n",
      "\u001b[0;32m~/.pyenv/versions/3.7.4/envs/optimizacion/lib/python3.7/site-packages/numpy/matrixlib/defmatrix.py\u001b[0m in \u001b[0;36m__mul__\u001b[0;34m(self, other)\u001b[0m\n\u001b[1;32m    216\u001b[0m         \u001b[0;32mif\u001b[0m \u001b[0misinstance\u001b[0m\u001b[0;34m(\u001b[0m\u001b[0mother\u001b[0m\u001b[0;34m,\u001b[0m \u001b[0;34m(\u001b[0m\u001b[0mN\u001b[0m\u001b[0;34m.\u001b[0m\u001b[0mndarray\u001b[0m\u001b[0;34m,\u001b[0m \u001b[0mlist\u001b[0m\u001b[0;34m,\u001b[0m \u001b[0mtuple\u001b[0m\u001b[0;34m)\u001b[0m\u001b[0;34m)\u001b[0m \u001b[0;34m:\u001b[0m\u001b[0;34m\u001b[0m\u001b[0;34m\u001b[0m\u001b[0m\n\u001b[1;32m    217\u001b[0m             \u001b[0;31m# This promotes 1-D vectors to row vectors\u001b[0m\u001b[0;34m\u001b[0m\u001b[0;34m\u001b[0m\u001b[0;34m\u001b[0m\u001b[0m\n\u001b[0;32m--> 218\u001b[0;31m             \u001b[0;32mreturn\u001b[0m \u001b[0mN\u001b[0m\u001b[0;34m.\u001b[0m\u001b[0mdot\u001b[0m\u001b[0;34m(\u001b[0m\u001b[0mself\u001b[0m\u001b[0;34m,\u001b[0m \u001b[0masmatrix\u001b[0m\u001b[0;34m(\u001b[0m\u001b[0mother\u001b[0m\u001b[0;34m)\u001b[0m\u001b[0;34m)\u001b[0m\u001b[0;34m\u001b[0m\u001b[0;34m\u001b[0m\u001b[0m\n\u001b[0m\u001b[1;32m    219\u001b[0m         \u001b[0;32mif\u001b[0m \u001b[0misscalar\u001b[0m\u001b[0;34m(\u001b[0m\u001b[0mother\u001b[0m\u001b[0;34m)\u001b[0m \u001b[0;32mor\u001b[0m \u001b[0;32mnot\u001b[0m \u001b[0mhasattr\u001b[0m\u001b[0;34m(\u001b[0m\u001b[0mother\u001b[0m\u001b[0;34m,\u001b[0m \u001b[0;34m'__rmul__'\u001b[0m\u001b[0;34m)\u001b[0m \u001b[0;34m:\u001b[0m\u001b[0;34m\u001b[0m\u001b[0;34m\u001b[0m\u001b[0m\n\u001b[1;32m    220\u001b[0m             \u001b[0;32mreturn\u001b[0m \u001b[0mN\u001b[0m\u001b[0;34m.\u001b[0m\u001b[0mdot\u001b[0m\u001b[0;34m(\u001b[0m\u001b[0mself\u001b[0m\u001b[0;34m,\u001b[0m \u001b[0mother\u001b[0m\u001b[0;34m)\u001b[0m\u001b[0;34m\u001b[0m\u001b[0;34m\u001b[0m\u001b[0m\n",
      "\u001b[0;32m<__array_function__ internals>\u001b[0m in \u001b[0;36mdot\u001b[0;34m(*args, **kwargs)\u001b[0m\n",
      "\u001b[0;31mValueError\u001b[0m: shapes (4,4) and (16,16) not aligned: 4 (dim 1) != 16 (dim 0)"
     ]
    }
   ],
   "source": [
    "q,r = QR_Householder(A)"
   ]
  },
  {
   "cell_type": "code",
   "execution_count": 58,
   "metadata": {},
   "outputs": [
    {
     "name": "stdout",
     "output_type": "stream",
     "text": [
      "[[0.0375     0.32083333 0.0375     0.4625     0.32083333 0.0375\n",
      "  0.4625     0.0375     0.8875     0.0375     0.8875     0.32083333]]\n"
     ]
    },
    {
     "ename": "LinAlgError",
     "evalue": "Last 2 dimensions of the array must be square",
     "output_type": "error",
     "traceback": [
      "\u001b[0;31m---------------------------------------------------------------------------\u001b[0m",
      "\u001b[0;31mLinAlgError\u001b[0m                               Traceback (most recent call last)",
      "\u001b[0;32m<ipython-input-58-99a80f41a4b6>\u001b[0m in \u001b[0;36m<module>\u001b[0;34m\u001b[0m\n\u001b[0;32m----> 1\u001b[0;31m \u001b[0meigval\u001b[0m\u001b[0;34m,\u001b[0m \u001b[0meigvec\u001b[0m \u001b[0;34m=\u001b[0m \u001b[0mEig_Householder\u001b[0m\u001b[0;34m(\u001b[0m\u001b[0mA\u001b[0m\u001b[0;34m)\u001b[0m\u001b[0;34m\u001b[0m\u001b[0;34m\u001b[0m\u001b[0m\n\u001b[0m",
      "\u001b[0;32m<ipython-input-54-8d45da884f5c>\u001b[0m in \u001b[0;36mEig_Householder\u001b[0;34m(A)\u001b[0m\n\u001b[1;32m     13\u001b[0m     \u001b[0mtk_fro_norm\u001b[0m \u001b[0;34m=\u001b[0m \u001b[0mnp\u001b[0m\u001b[0;34m.\u001b[0m\u001b[0mlinalg\u001b[0m\u001b[0;34m.\u001b[0m\u001b[0mnorm\u001b[0m\u001b[0;34m(\u001b[0m\u001b[0mA\u001b[0m\u001b[0;34m,\u001b[0m \u001b[0;34m'fro'\u001b[0m\u001b[0;34m)\u001b[0m\u001b[0;34m\u001b[0m\u001b[0;34m\u001b[0m\u001b[0m\n\u001b[1;32m     14\u001b[0m     \u001b[0miterations\u001b[0m \u001b[0;34m=\u001b[0m \u001b[0;36m0\u001b[0m\u001b[0;34m\u001b[0m\u001b[0;34m\u001b[0m\u001b[0m\n\u001b[0;32m---> 15\u001b[0;31m     \u001b[0moff_Tk\u001b[0m \u001b[0;34m=\u001b[0m \u001b[0moff\u001b[0m\u001b[0;34m(\u001b[0m\u001b[0mA\u001b[0m\u001b[0;34m)\u001b[0m\u001b[0;34m\u001b[0m\u001b[0;34m\u001b[0m\u001b[0m\n\u001b[0m\u001b[1;32m     16\u001b[0m \u001b[0;34m\u001b[0m\u001b[0m\n\u001b[1;32m     17\u001b[0m     \u001b[0mq_aux\u001b[0m \u001b[0;34m=\u001b[0m \u001b[0;34m[\u001b[0m\u001b[0;34m]\u001b[0m\u001b[0;34m\u001b[0m\u001b[0;34m\u001b[0m\u001b[0m\n",
      "\u001b[0;32m<ipython-input-57-e8825fa1c462>\u001b[0m in \u001b[0;36moff\u001b[0;34m(T)\u001b[0m\n\u001b[1;32m      9\u001b[0m     \u001b[0;32mfor\u001b[0m \u001b[0mi\u001b[0m \u001b[0;32min\u001b[0m \u001b[0mrange\u001b[0m \u001b[0;34m(\u001b[0m\u001b[0;36m0\u001b[0m\u001b[0;34m,\u001b[0m\u001b[0mlen\u001b[0m\u001b[0;34m(\u001b[0m\u001b[0mT_sin_dig\u001b[0m\u001b[0;34m)\u001b[0m\u001b[0;34m)\u001b[0m\u001b[0;34m:\u001b[0m\u001b[0;34m\u001b[0m\u001b[0;34m\u001b[0m\u001b[0m\n\u001b[1;32m     10\u001b[0m         \u001b[0mprint\u001b[0m \u001b[0;34m(\u001b[0m\u001b[0mT_sin_dig\u001b[0m\u001b[0;34m[\u001b[0m\u001b[0mi\u001b[0m\u001b[0;34m]\u001b[0m\u001b[0;34m)\u001b[0m\u001b[0;34m\u001b[0m\u001b[0;34m\u001b[0m\u001b[0m\n\u001b[0;32m---> 11\u001b[0;31m         \u001b[0msum\u001b[0m \u001b[0;34m+=\u001b[0m \u001b[0mT_sin_dig\u001b[0m\u001b[0;34m[\u001b[0m\u001b[0mi\u001b[0m\u001b[0;34m]\u001b[0m\u001b[0;34m**\u001b[0m\u001b[0;36m2\u001b[0m\u001b[0;34m\u001b[0m\u001b[0;34m\u001b[0m\u001b[0m\n\u001b[0m\u001b[1;32m     12\u001b[0m     \u001b[0moff_T\u001b[0m \u001b[0;34m=\u001b[0m \u001b[0mnp\u001b[0m\u001b[0;34m.\u001b[0m\u001b[0msqrt\u001b[0m\u001b[0;34m(\u001b[0m\u001b[0msum\u001b[0m\u001b[0;34m)\u001b[0m\u001b[0;34m\u001b[0m\u001b[0;34m\u001b[0m\u001b[0m\n\u001b[1;32m     13\u001b[0m \u001b[0;34m\u001b[0m\u001b[0m\n",
      "\u001b[0;32m~/.pyenv/versions/3.7.4/envs/optimizacion/lib/python3.7/site-packages/numpy/matrixlib/defmatrix.py\u001b[0m in \u001b[0;36m__pow__\u001b[0;34m(self, other)\u001b[0m\n\u001b[1;32m    229\u001b[0m \u001b[0;34m\u001b[0m\u001b[0m\n\u001b[1;32m    230\u001b[0m     \u001b[0;32mdef\u001b[0m \u001b[0m__pow__\u001b[0m\u001b[0;34m(\u001b[0m\u001b[0mself\u001b[0m\u001b[0;34m,\u001b[0m \u001b[0mother\u001b[0m\u001b[0;34m)\u001b[0m\u001b[0;34m:\u001b[0m\u001b[0;34m\u001b[0m\u001b[0;34m\u001b[0m\u001b[0m\n\u001b[0;32m--> 231\u001b[0;31m         \u001b[0;32mreturn\u001b[0m \u001b[0mmatrix_power\u001b[0m\u001b[0;34m(\u001b[0m\u001b[0mself\u001b[0m\u001b[0;34m,\u001b[0m \u001b[0mother\u001b[0m\u001b[0;34m)\u001b[0m\u001b[0;34m\u001b[0m\u001b[0;34m\u001b[0m\u001b[0m\n\u001b[0m\u001b[1;32m    232\u001b[0m \u001b[0;34m\u001b[0m\u001b[0m\n\u001b[1;32m    233\u001b[0m     \u001b[0;32mdef\u001b[0m \u001b[0m__ipow__\u001b[0m\u001b[0;34m(\u001b[0m\u001b[0mself\u001b[0m\u001b[0;34m,\u001b[0m \u001b[0mother\u001b[0m\u001b[0;34m)\u001b[0m\u001b[0;34m:\u001b[0m\u001b[0;34m\u001b[0m\u001b[0;34m\u001b[0m\u001b[0m\n",
      "\u001b[0;32m<__array_function__ internals>\u001b[0m in \u001b[0;36mmatrix_power\u001b[0;34m(*args, **kwargs)\u001b[0m\n",
      "\u001b[0;32m~/.pyenv/versions/3.7.4/envs/optimizacion/lib/python3.7/site-packages/numpy/linalg/linalg.py\u001b[0m in \u001b[0;36mmatrix_power\u001b[0;34m(a, n)\u001b[0m\n\u001b[1;32m    619\u001b[0m     \u001b[0ma\u001b[0m \u001b[0;34m=\u001b[0m \u001b[0masanyarray\u001b[0m\u001b[0;34m(\u001b[0m\u001b[0ma\u001b[0m\u001b[0;34m)\u001b[0m\u001b[0;34m\u001b[0m\u001b[0;34m\u001b[0m\u001b[0m\n\u001b[1;32m    620\u001b[0m     \u001b[0m_assert_stacked_2d\u001b[0m\u001b[0;34m(\u001b[0m\u001b[0ma\u001b[0m\u001b[0;34m)\u001b[0m\u001b[0;34m\u001b[0m\u001b[0;34m\u001b[0m\u001b[0m\n\u001b[0;32m--> 621\u001b[0;31m     \u001b[0m_assert_stacked_square\u001b[0m\u001b[0;34m(\u001b[0m\u001b[0ma\u001b[0m\u001b[0;34m)\u001b[0m\u001b[0;34m\u001b[0m\u001b[0;34m\u001b[0m\u001b[0m\n\u001b[0m\u001b[1;32m    622\u001b[0m \u001b[0;34m\u001b[0m\u001b[0m\n\u001b[1;32m    623\u001b[0m     \u001b[0;32mtry\u001b[0m\u001b[0;34m:\u001b[0m\u001b[0;34m\u001b[0m\u001b[0;34m\u001b[0m\u001b[0m\n",
      "\u001b[0;32m~/.pyenv/versions/3.7.4/envs/optimizacion/lib/python3.7/site-packages/numpy/linalg/linalg.py\u001b[0m in \u001b[0;36m_assert_stacked_square\u001b[0;34m(*arrays)\u001b[0m\n\u001b[1;32m    202\u001b[0m         \u001b[0mm\u001b[0m\u001b[0;34m,\u001b[0m \u001b[0mn\u001b[0m \u001b[0;34m=\u001b[0m \u001b[0ma\u001b[0m\u001b[0;34m.\u001b[0m\u001b[0mshape\u001b[0m\u001b[0;34m[\u001b[0m\u001b[0;34m-\u001b[0m\u001b[0;36m2\u001b[0m\u001b[0;34m:\u001b[0m\u001b[0;34m]\u001b[0m\u001b[0;34m\u001b[0m\u001b[0;34m\u001b[0m\u001b[0m\n\u001b[1;32m    203\u001b[0m         \u001b[0;32mif\u001b[0m \u001b[0mm\u001b[0m \u001b[0;34m!=\u001b[0m \u001b[0mn\u001b[0m\u001b[0;34m:\u001b[0m\u001b[0;34m\u001b[0m\u001b[0;34m\u001b[0m\u001b[0m\n\u001b[0;32m--> 204\u001b[0;31m             \u001b[0;32mraise\u001b[0m \u001b[0mLinAlgError\u001b[0m\u001b[0;34m(\u001b[0m\u001b[0;34m'Last 2 dimensions of the array must be square'\u001b[0m\u001b[0;34m)\u001b[0m\u001b[0;34m\u001b[0m\u001b[0;34m\u001b[0m\u001b[0m\n\u001b[0m\u001b[1;32m    205\u001b[0m \u001b[0;34m\u001b[0m\u001b[0m\n\u001b[1;32m    206\u001b[0m \u001b[0;32mdef\u001b[0m \u001b[0m_assert_finite\u001b[0m\u001b[0;34m(\u001b[0m\u001b[0;34m*\u001b[0m\u001b[0marrays\u001b[0m\u001b[0;34m)\u001b[0m\u001b[0;34m:\u001b[0m\u001b[0;34m\u001b[0m\u001b[0;34m\u001b[0m\u001b[0m\n",
      "\u001b[0;31mLinAlgError\u001b[0m: Last 2 dimensions of the array must be square"
     ]
    }
   ],
   "source": [
    "eigval, eigvec = Eig_Householder(A)"
   ]
  },
  {
   "cell_type": "markdown",
   "metadata": {},
   "source": [
    "#### No olvidemos comprobar que los eigenvalores y eigenvectores sean los esperados"
   ]
  },
  {
   "cell_type": "markdown",
   "metadata": {},
   "source": [
    "#### QR:"
   ]
  },
  {
   "cell_type": "code",
   "execution_count": 45,
   "metadata": {},
   "outputs": [],
   "source": [
    "q_linalg, r_linalg = np.linalg.qr(A)"
   ]
  },
  {
   "cell_type": "code",
   "execution_count": 46,
   "metadata": {},
   "outputs": [
    {
     "data": {
      "text/plain": [
       "matrix([[-0.05714545,  0.03560395,  0.82422969, -0.56223854],\n",
       "        [-0.70479387, -0.041887  ,  0.36635404,  0.60604934],\n",
       "        [-0.70479387, -0.041887  , -0.43057973, -0.56223854],\n",
       "        [-0.05714545,  0.9976088 , -0.03211284,  0.0219054 ]])"
      ]
     },
     "execution_count": 46,
     "metadata": {},
     "output_type": "execute_result"
    }
   ],
   "source": [
    "q_linalg"
   ]
  },
  {
   "cell_type": "code",
   "execution_count": 47,
   "metadata": {},
   "outputs": [
    {
     "data": {
      "text/plain": [
       "matrix([[-0.65622024, -0.10571908, -0.28921947, -0.65622024],\n",
       "        [ 0.        ,  0.88357143,  0.31647958,  0.        ],\n",
       "        [ 0.        ,  0.        ,  0.35552934, -0.33869685],\n",
       "        [ 0.        ,  0.        ,  0.        , -0.49652235]])"
      ]
     },
     "execution_count": 47,
     "metadata": {},
     "output_type": "execute_result"
    }
   ],
   "source": [
    "r_linalg"
   ]
  },
  {
   "cell_type": "markdown",
   "metadata": {},
   "source": [
    "#### Eigenvalores y eigenvectores:"
   ]
  },
  {
   "cell_type": "code",
   "execution_count": 49,
   "metadata": {},
   "outputs": [],
   "source": [
    "eigval_eig , eigvec_eig = np.linalg.eig(A)"
   ]
  },
  {
   "cell_type": "code",
   "execution_count": 50,
   "metadata": {},
   "outputs": [
    {
     "data": {
      "text/plain": [
       "array([ 1.        +0.j       , -0.53255755+0.j       ,\n",
       "       -0.15872123+0.4086578j, -0.15872123-0.4086578j])"
      ]
     },
     "execution_count": 50,
     "metadata": {},
     "output_type": "execute_result"
    }
   ],
   "source": [
    "eigval_eig"
   ]
  },
  {
   "cell_type": "code",
   "execution_count": 51,
   "metadata": {},
   "outputs": [
    {
     "data": {
      "text/plain": [
       "matrix([[-0.26215411+0.j        ,  0.44574718+0.j        ,\n",
       "         -0.14649706-0.37718437j, -0.14649706+0.37718437j],\n",
       "        [-0.37356961+0.j        ,  0.09002496+0.j        ,\n",
       "         -0.43592932-0.11241445j, -0.43592932+0.11241445j],\n",
       "        [-0.67504258+0.j        , -0.83783303+0.j        ,\n",
       "          0.62608774+0.j        ,  0.62608774-0.j        ],\n",
       "        [-0.57968827+0.j        ,  0.30206089+0.j        ,\n",
       "         -0.04366137+0.48959882j, -0.04366137-0.48959882j]])"
      ]
     },
     "execution_count": 51,
     "metadata": {},
     "output_type": "execute_result"
    }
   ],
   "source": [
    "eigvec_eig"
   ]
  },
  {
   "cell_type": "markdown",
   "metadata": {},
   "source": [
    "## Probamos con el método de la potencia"
   ]
  },
  {
   "cell_type": "markdown",
   "metadata": {},
   "source": [
    "El método de la potencia se define como: \n",
    "    \n",
    "$$ PR_{t+1} = H_{=}^{} PR_t $$\n",
    "\n",
    "siendo H la matriz estocástica"
   ]
  },
  {
   "cell_type": "markdown",
   "metadata": {},
   "source": [
    "##### Definimos un vector inicial \n",
    "\n",
    "El vector será de tamaño n, siendo el número de nodos y la inicialización de cada valor será 1/n\n",
    "\n",
    "En este caso:\n",
    "\n",
    "\\begin{align}\n",
    "    v &= \\begin{bmatrix}\n",
    "           1/4 \\\\\n",
    "           1/4 \\\\\n",
    "           1/4 \\\\\n",
    "           1/4\n",
    "         \\end{bmatrix}\n",
    "  \\end{align}"
   ]
  },
  {
   "cell_type": "code",
   "execution_count": 118,
   "metadata": {},
   "outputs": [
    {
     "name": "stdout",
     "output_type": "stream",
     "text": [
      "[0.25, 0.25, 0.25, 0.25]\n"
     ]
    }
   ],
   "source": [
    "v = [1/4, 1/4, 1/4, 1/4]\n",
    "\n",
    "pprint.pprint(v)"
   ]
  },
  {
   "cell_type": "markdown",
   "metadata": {},
   "source": [
    "Para obtener el segundo vector se debe hacer:\n",
    "    \n",
    "$$v_2 = Hv$$"
   ]
  },
  {
   "cell_type": "code",
   "execution_count": 119,
   "metadata": {},
   "outputs": [
    {
     "name": "stdout",
     "output_type": "stream",
     "text": [
      "array([0.08333333, 0.20833333, 0.375     , 0.33333333])\n"
     ]
    }
   ],
   "source": [
    "v_2 = H@v\n",
    "\n",
    "pprint.pprint(v_2)"
   ]
  },
  {
   "cell_type": "markdown",
   "metadata": {},
   "source": [
    "Para obtener el tercer vector:\n",
    "    \n",
    "$$ v_3 = Hv_2 = H(Hv) = H^2v$$"
   ]
  },
  {
   "cell_type": "code",
   "execution_count": 120,
   "metadata": {},
   "outputs": [
    {
     "name": "stdout",
     "output_type": "stream",
     "text": [
      "array([0.125     , 0.16666667, 0.375     , 0.33333333])\n"
     ]
    }
   ],
   "source": [
    "v_3  = H@v_2\n",
    "\n",
    "pprint.pprint(v_3)"
   ]
  },
  {
   "cell_type": "code",
   "execution_count": 121,
   "metadata": {},
   "outputs": [
    {
     "name": "stdout",
     "output_type": "stream",
     "text": [
      "array([0.125     , 0.16666667, 0.375     , 0.33333333])\n"
     ]
    }
   ],
   "source": [
    "v_3_r = (H@H)@v\n",
    "\n",
    "pprint.pprint(v_3_r)"
   ]
  },
  {
   "cell_type": "markdown",
   "metadata": {},
   "source": [
    "Entonces para $$v_n = H^{n-1}v$$\n",
    "\n",
    "Si iteramos varias veces tiene a un valor equilibrado:"
   ]
  },
  {
   "cell_type": "code",
   "execution_count": 122,
   "metadata": {},
   "outputs": [],
   "source": [
    "n = 20\n",
    "for i in range(n):\n",
    "    H = H@H\n",
    "v_n = H@v"
   ]
  },
  {
   "cell_type": "code",
   "execution_count": 123,
   "metadata": {},
   "outputs": [
    {
     "data": {
      "text/plain": [
       "array([0.125 , 0.1875, 0.375 , 0.3125])"
      ]
     },
     "execution_count": 123,
     "metadata": {},
     "output_type": "execute_result"
    }
   ],
   "source": [
    "v_n"
   ]
  },
  {
   "cell_type": "code",
   "execution_count": 124,
   "metadata": {},
   "outputs": [],
   "source": [
    "df = pd.DataFrame(v_n, columns=['pagerank'])"
   ]
  },
  {
   "cell_type": "code",
   "execution_count": 125,
   "metadata": {},
   "outputs": [],
   "source": [
    "df['nodo'] = nodos"
   ]
  },
  {
   "cell_type": "code",
   "execution_count": 126,
   "metadata": {},
   "outputs": [
    {
     "data": {
      "text/html": [
       "<div>\n",
       "<style scoped>\n",
       "    .dataframe tbody tr th:only-of-type {\n",
       "        vertical-align: middle;\n",
       "    }\n",
       "\n",
       "    .dataframe tbody tr th {\n",
       "        vertical-align: top;\n",
       "    }\n",
       "\n",
       "    .dataframe thead th {\n",
       "        text-align: right;\n",
       "    }\n",
       "</style>\n",
       "<table border=\"1\" class=\"dataframe\">\n",
       "  <thead>\n",
       "    <tr style=\"text-align: right;\">\n",
       "      <th></th>\n",
       "      <th>pagerank</th>\n",
       "    </tr>\n",
       "    <tr>\n",
       "      <th>nodo</th>\n",
       "      <th></th>\n",
       "    </tr>\n",
       "  </thead>\n",
       "  <tbody>\n",
       "    <tr>\n",
       "      <th>A</th>\n",
       "      <td>0.1250</td>\n",
       "    </tr>\n",
       "    <tr>\n",
       "      <th>B</th>\n",
       "      <td>0.1875</td>\n",
       "    </tr>\n",
       "    <tr>\n",
       "      <th>C</th>\n",
       "      <td>0.3750</td>\n",
       "    </tr>\n",
       "    <tr>\n",
       "      <th>D</th>\n",
       "      <td>0.3125</td>\n",
       "    </tr>\n",
       "  </tbody>\n",
       "</table>\n",
       "</div>"
      ],
      "text/plain": [
       "      pagerank\n",
       "nodo          \n",
       "A       0.1250\n",
       "B       0.1875\n",
       "C       0.3750\n",
       "D       0.3125"
      ]
     },
     "execution_count": 126,
     "metadata": {},
     "output_type": "execute_result"
    }
   ],
   "source": [
    "df.set_index('nodo')"
   ]
  },
  {
   "cell_type": "markdown",
   "metadata": {},
   "source": [
    "## Intentamos con PageRank de `Networkx`"
   ]
  },
  {
   "cell_type": "markdown",
   "metadata": {},
   "source": [
    "The eigenvector calculation is done by the power iteration method and has no guarantee of convergence. The iteration will stop after an error tolerance of len(G) * tol has been reached. If the number of iterations exceed max_iter, a networkx.exception.PowerIterationFailedConvergence exception is raised.\n",
    "\n",
    "The PageRank algorithm was designed for directed graphs but this algorithm does not check if the input graph is directed and will execute on undirected graphs by converting each edge in the directed graph to two edges."
   ]
  },
  {
   "cell_type": "code",
   "execution_count": 127,
   "metadata": {},
   "outputs": [],
   "source": [
    "from networkx.algorithms.link_analysis.pagerank_alg import pagerank"
   ]
  },
  {
   "cell_type": "code",
   "execution_count": 160,
   "metadata": {},
   "outputs": [],
   "source": [
    "pr = pagerank(G, max_iter=20)"
   ]
  },
  {
   "cell_type": "code",
   "execution_count": 161,
   "metadata": {},
   "outputs": [
    {
     "data": {
      "text/plain": [
       "{'A': 0.13867229558179425,\n",
       " 'B': 0.1976082981211456,\n",
       " 'C': 0.3570799577952133,\n",
       " 'D': 0.30663944850184677}"
      ]
     },
     "execution_count": 161,
     "metadata": {},
     "output_type": "execute_result"
    }
   ],
   "source": [
    "pr"
   ]
  },
  {
   "cell_type": "markdown",
   "metadata": {},
   "source": [
    "## Mismo grafo con su PageRank"
   ]
  },
  {
   "cell_type": "code",
   "execution_count": 164,
   "metadata": {},
   "outputs": [
    {
     "name": "stdout",
     "output_type": "stream",
     "text": [
      "{'A': 0.14, 'B': 0.2, 'C': 0.36, 'D': 0.31}\n"
     ]
    },
    {
     "data": {
      "image/png": "[encoded data removed]",
      "text/plain": [
       "<Figure size 432x288 with 1 Axes>"
      ]
     },
     "metadata": {},
     "output_type": "display_data"
    }
   ],
   "source": [
    "import networkx as nx\n",
    "import matplotlib.pyplot as plt\n",
    "\n",
    "G = nx.DiGraph()\n",
    "\n",
    "for nodo in pr:\n",
    "    G.add_node(nodo)\n",
    "    \n",
    "\n",
    "G.add_edge(\"A\",\"C\")\n",
    "G.add_edge(\"C\",\"A\")\n",
    "G.add_edge(\"A\",\"B\")\n",
    "G.add_edge(\"C\",\"B\")\n",
    "G.add_edge(\"B\",\"D\")\n",
    "G.add_edge(\"C\",\"D\")\n",
    "G.add_edge(\"D\",\"C\")\n",
    "\n",
    "pos = nx.spring_layout(G)\n",
    "\n",
    "labels = {}    \n",
    "for node in G.nodes():\n",
    "    if node in pr:\n",
    "        #set the node name as the key and the label as its value \n",
    "        labels[node] = round(pr[node],2)\n",
    "\n",
    "# Es lo mismo que pr pero redondeado        \n",
    "print(labels)\n",
    "\n",
    "nx.draw_networkx_nodes(G, pos)\n",
    "nx.draw_networkx_labels(G, pos, labels=labels)\n",
    "nx.draw_networkx_edges(G, pos, edge_color='r', arrows = True)\n",
    "\n",
    "plt.show()"
   ]
  },
  {
   "cell_type": "markdown",
   "metadata": {},
   "source": [
    "## Referencias\n",
    "\n",
    "- [Google Matrix](https://networkx.org/documentation/stable//reference/algorithms/generated/networkx.algorithms.link_analysis.pagerank_alg.google_matrix.html#networkx.algorithms.link_analysis.pagerank_alg.google_matrix)\n",
    "- [Código QR](https://github.com/optimizacion-2020-2-gh-classroom/practica-1-segunda-parte-graph-caroacostatovany)\n",
    "- [PageRank](https://networkx.org/documentation/stable//reference/algorithms/generated/networkx.algorithms.link_analysis.pagerank_alg.pagerank.html)\n",
    "- [Etiquetas para los nodos](https://stackoverflow.com/questions/14665767/networkx-specific-nodes-labeling)"
   ]
  },
  {
   "cell_type": "code",
   "execution_count": null,
   "metadata": {},
   "outputs": [],
   "source": []
  }
 ],
 "metadata": {
  "kernelspec": {
   "display_name": "Python 3",
   "language": "python",
   "name": "python3"
  },
  "language_info": {
   "codemirror_mode": {
    "name": "ipython",
    "version": 3
   },
   "file_extension": ".py",
   "mimetype": "text/x-python",
   "name": "python",
   "nbconvert_exporter": "python",
   "pygments_lexer": "ipython3",
   "version": "3.7.4"
  }
 },
 "nbformat": 4,
 "nbformat_minor": 4
}
