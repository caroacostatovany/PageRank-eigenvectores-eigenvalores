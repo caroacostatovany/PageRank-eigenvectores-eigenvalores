{
 "cells": [
  {
   "cell_type": "markdown",
   "metadata": {},
   "source": [
    "# Page Rank"
   ]
  },
  {
   "cell_type": "markdown",
   "metadata": {},
   "source": [
    "### ¿Qué es el PageRank?"
   ]
  },
  {
   "cell_type": "markdown",
   "metadata": {},
   "source": [
    "Es un algoritmo utilizado por Google Search para ranker páginas web y así poderlas desplegar en sus resultados de motor de búsqueda. \n",
    "\n",
    "PageRank es una forma de medir la importancia de las páginas web. Y funciona a partir del número y la calidad de los `outlinks` que tiene una página web. La suposición que se realiza en este algoritmo es que las páginas web más importantes son más comunes de ser linkeadas de otras páginas web.\n",
    "\n",
    "No es el único algoritmo utilizado para el motor de búsqueda de Google, pero fue el primero y el más conocido."
   ]
  },
  {
   "cell_type": "markdown",
   "metadata": {},
   "source": [
    "### Algoritmo"
   ]
  },
  {
   "cell_type": "markdown",
   "metadata": {},
   "source": [
    "El resultado del algoritmo es una distribución de la probabilidad que representa la probabilidad que una persona dando click random a los links puede llegar a esa página en particulas. \n",
    "\n",
    "Al principio el pagerank mantiene una probabilidad igual en todos los documentos de la colección del proceso computacional. Después, el proceso requiere multiples pasos, a los que se les llamará, iteraciones, para ajustar el valor del pagerank aproximado para reflejar el valor real teórico."
   ]
  },
  {
   "cell_type": "markdown",
   "metadata": {},
   "source": [
    "### Fórmula iterativa:"
   ]
  },
  {
   "cell_type": "markdown",
   "metadata": {},
   "source": [
    "$$\n",
    "PR_{t+1}(P_j) = \\sum_{P_j}\\frac{PR_t(P_j)}{C(P_j)}\n",
    "$$"
   ]
  },
  {
   "cell_type": "markdown",
   "metadata": {},
   "source": [
    "donde en la iteración 0 , se inicializa un vector de tamaño n, y sus valores inciales para cada posición será $\\frac{1}{n}$"
   ]
  },
  {
   "cell_type": "markdown",
   "metadata": {},
   "source": [
    "### Representación en matriz:"
   ]
  },
  {
   "cell_type": "markdown",
   "metadata": {},
   "source": [
    "Se pueden utilizar operaciones matriciales en vez de realizar la forma iterativa (donde se hacen cálculos y actualizaciones de valores de uno por uno).\n",
    "\n",
    "Con las operaciones matriciales se pueden realizar múltiples cálculos al mismo tiempo."
   ]
  },
  {
   "cell_type": "markdown",
   "metadata": {},
   "source": [
    "Debemos definir nuestra matriz que debe ser **estocástica** que nos ayuda a describir las transiciones en una cadena de Markov.\n",
    "\n",
    "Esta matriz se definirá por los outlinks y el número de éstos por cada página. **(Ver sección de Ejemplo)**"
   ]
  },
  {
   "cell_type": "markdown",
   "metadata": {},
   "source": [
    "El método utilizado para realizar estos cálculos de forma más sencilla es el **método de la potencia**"
   ]
  },
  {
   "cell_type": "markdown",
   "metadata": {},
   "source": [
    "##### Método de la potencia"
   ]
  },
  {
   "cell_type": "markdown",
   "metadata": {},
   "source": [
    "$$ PR_{t+1} = H PR_t$$\n",
    "\n",
    "donde H es la matriz estocástica"
   ]
  },
  {
   "cell_type": "markdown",
   "metadata": {},
   "source": [
    "Esta matriz se debe multiplicar con un vector en cada iteración, ¿pero cuál es el vector inicial?\n",
    "\n",
    "Como se ha mencionado previamente, el vector inicial será un vector de tamaño n, y sus valores inciales para cada posición será $\\frac{1}{n}$"
   ]
  },
  {
   "cell_type": "markdown",
   "metadata": {},
   "source": [
    "Entonces para obtener el vector de la siguiente iteración esta dado por:\n",
    "    $$v_2 = H v$$"
   ]
  },
  {
   "cell_type": "markdown",
   "metadata": {},
   "source": [
    "Siguiente iteración:\n",
    "\n",
    "$$v_3 = H v_2 = H (H v) = H^2 v$$"
   ]
  },
  {
   "cell_type": "markdown",
   "metadata": {},
   "source": [
    "Entonces:\n",
    "    \n",
    "$$v_n = H^{(n-1)} v$$"
   ]
  },
  {
   "cell_type": "markdown",
   "metadata": {},
   "source": [
    "Si hacemos varias iteraciones, converge a un valor de equilibrio."
   ]
  },
  {
   "cell_type": "markdown",
   "metadata": {},
   "source": [
    "### Ejemplo:"
   ]
  },
  {
   "cell_type": "markdown",
   "metadata": {},
   "source": [
    "Supongamos que tenemos 4 páginas web donde:\n",
    "- la página A apunta a las páginas C y B\n",
    "- la página B apunta a la página D\n",
    "- la pagina C apunta a las páiginas A, B, D\n",
    "- la página D apunta a la página C"
   ]
  },
  {
   "cell_type": "markdown",
   "metadata": {},
   "source": [
    "Veámoslo de forma gráfica"
   ]
  },
  {
   "cell_type": "code",
   "execution_count": 5,
   "metadata": {
    "tags": [
     "remove"
    ]
   },
   "outputs": [],
   "source": [
    "import numpy as np\n",
    "import math\n",
    "import pandas as pd\n",
    "from scipy.sparse import csr_matrix \n",
    "  \n",
    "# Para las pruebas\n",
    "from pytest import approx\n",
    "import pprint\n",
    "# Para los grafos\n",
    "import networkx as nx\n",
    "import matplotlib.pyplot as plt"
   ]
  },
  {
   "cell_type": "code",
   "execution_count": 7,
   "metadata": {
    "tags": [
     "remove"
    ]
   },
   "outputs": [],
   "source": [
    "pages_links = pd.DataFrame( columns=['pagina', 'outlinks'])\n",
    "pages_links['pagina'] = ['A', 'B', 'C', 'D']\n",
    "pages_links['outlinks'][0] = ['C', 'B']\n",
    "pages_links['outlinks'][1] = ['D']\n",
    "pages_links['outlinks'][2] = ['A', 'B', 'D']\n",
    "pages_links['outlinks'][3] = ['C']"
   ]
  },
  {
   "cell_type": "code",
   "execution_count": 8,
   "metadata": {
    "tags": [
     "remove"
    ]
   },
   "outputs": [
    {
     "data": {
      "image/png": "[encoded data removed]",
      "text/plain": [
       "<Figure size 432x288 with 1 Axes>"
      ]
     },
     "metadata": {},
     "output_type": "display_data"
    }
   ],
   "source": [
    "nodos = pages_links['pagina']\n",
    "\n",
    "G = nx.DiGraph()\n",
    "\n",
    "for nodo in nodos:\n",
    "    G.add_node(nodo)\n",
    "    \n",
    "for page, outlinks in zip(pages_links['pagina'],pages_links['outlinks']):\n",
    "    for outlink in outlinks:\n",
    "        G.add_edge(page, outlink)\n",
    "\n",
    "pos = nx.spring_layout(G)\n",
    "\n",
    "\n",
    "nx.draw_networkx_nodes(G, pos, node_color='#a0a88a', node_size=400)\n",
    "nx.draw_networkx_labels(G, pos)\n",
    "nx.draw_networkx_edges(G, pos, edge_color='#305029', width=1.8, arrows = True, style='dashed')\n",
    "\n",
    "plt.show()"
   ]
  },
  {
   "cell_type": "markdown",
   "metadata": {},
   "source": [
    "Definimos nuestra matriz estocástica conforme a lo previamente definido"
   ]
  },
  {
   "cell_type": "code",
   "execution_count": 9,
   "metadata": {
    "tags": [
     "remove"
    ]
   },
   "outputs": [],
   "source": [
    "sparseMatrix = csr_matrix((len(pages_links), len(pages_links)),  \n",
    "                          dtype = np.float).toarray() \n",
    "newdf = pd.DataFrame(sparseMatrix, columns = pages_links['pagina'], index=pages_links['pagina'])\n",
    "count = 0\n",
    "for page, outlinks in zip(pages_links['pagina'],pages_links['outlinks']):\n",
    "    score = 1/len(outlinks)\n",
    "    dict_page = {page: np.zeros(len(pages_links))}\n",
    "    for outlink in outlinks:\n",
    "        newdf[page][outlink] = score"
   ]
  },
  {
   "cell_type": "code",
   "execution_count": 11,
   "metadata": {
    "tags": [
     "remove"
    ]
   },
   "outputs": [
    {
     "data": {
      "text/plain": [
       "array([[0.        , 0.        , 0.33333333, 0.        ],\n",
       "       [0.5       , 0.        , 0.33333333, 0.        ],\n",
       "       [0.5       , 0.        , 0.        , 1.        ],\n",
       "       [0.        , 1.        , 0.33333333, 0.        ]])"
      ]
     },
     "execution_count": 11,
     "metadata": {},
     "output_type": "execute_result"
    }
   ],
   "source": [
    "H = newdf.to_numpy()\n",
    "H"
   ]
  },
  {
   "cell_type": "markdown",
   "metadata": {},
   "source": [
    "Definimos el vector inicial\n",
    "\n",
    "Que en este caso será:\n",
    "\n",
    "\\begin{align}\n",
    "    v &= \\begin{bmatrix}\n",
    "           1/4 \\\\\n",
    "           1/4 \\\\\n",
    "           1/4 \\\\\n",
    "           1/4\n",
    "         \\end{bmatrix}\n",
    "  \\end{align}"
   ]
  },
  {
   "cell_type": "code",
   "execution_count": 12,
   "metadata": {
    "tags": [
     "remove"
    ]
   },
   "outputs": [
    {
     "name": "stdout",
     "output_type": "stream",
     "text": [
      "array([0.25, 0.25, 0.25, 0.25])\n"
     ]
    }
   ],
   "source": [
    "v = np.ones(len(pages_links))\n",
    "v = v*1/len(v)\n",
    "pprint.pprint(v)"
   ]
  },
  {
   "cell_type": "markdown",
   "metadata": {},
   "source": [
    "Como habíamos definido antes: \n",
    "\n",
    "$$v_n = H^{n-1}v$$\n",
    "\n",
    "donde n será el número de iteraciones. \n",
    "\n",
    "En este caso probaremos con 20 iteraciones para obtener el vector 21."
   ]
  },
  {
   "cell_type": "code",
   "execution_count": 13,
   "metadata": {
    "tags": [
     "remove"
    ]
   },
   "outputs": [],
   "source": [
    "n = 20\n",
    "H = np.linalg.matrix_power(H, n)\n",
    "v_n = H@v"
   ]
  },
  {
   "cell_type": "markdown",
   "metadata": {},
   "source": [
    "Cuando hacemos los cálculos obtenemos $v_n$"
   ]
  },
  {
   "cell_type": "code",
   "execution_count": 14,
   "metadata": {
    "tags": [
     "remove"
    ]
   },
   "outputs": [
    {
     "data": {
      "text/plain": [
       "array([0.12500368, 0.18750089, 0.37499297, 0.31250246])"
      ]
     },
     "execution_count": 14,
     "metadata": {},
     "output_type": "execute_result"
    }
   ],
   "source": [
    "v_n"
   ]
  },
  {
   "cell_type": "markdown",
   "metadata": {},
   "source": [
    "Para mejor entendimiento:"
   ]
  },
  {
   "cell_type": "code",
   "execution_count": 17,
   "metadata": {
    "tags": [
     "remove"
    ]
   },
   "outputs": [
    {
     "data": {
      "text/html": [
       "<div>\n",
       "<style scoped>\n",
       "    .dataframe tbody tr th:only-of-type {\n",
       "        vertical-align: middle;\n",
       "    }\n",
       "\n",
       "    .dataframe tbody tr th {\n",
       "        vertical-align: top;\n",
       "    }\n",
       "\n",
       "    .dataframe thead th {\n",
       "        text-align: right;\n",
       "    }\n",
       "</style>\n",
       "<table border=\"1\" class=\"dataframe\">\n",
       "  <thead>\n",
       "    <tr style=\"text-align: right;\">\n",
       "      <th></th>\n",
       "      <th>pagerank</th>\n",
       "    </tr>\n",
       "    <tr>\n",
       "      <th>nodo</th>\n",
       "      <th></th>\n",
       "    </tr>\n",
       "  </thead>\n",
       "  <tbody>\n",
       "    <tr>\n",
       "      <th>A</th>\n",
       "      <td>0.125004</td>\n",
       "    </tr>\n",
       "    <tr>\n",
       "      <th>B</th>\n",
       "      <td>0.187501</td>\n",
       "    </tr>\n",
       "    <tr>\n",
       "      <th>C</th>\n",
       "      <td>0.374993</td>\n",
       "    </tr>\n",
       "    <tr>\n",
       "      <th>D</th>\n",
       "      <td>0.312502</td>\n",
       "    </tr>\n",
       "  </tbody>\n",
       "</table>\n",
       "</div>"
      ],
      "text/plain": [
       "      pagerank\n",
       "nodo          \n",
       "A     0.125004\n",
       "B     0.187501\n",
       "C     0.374993\n",
       "D     0.312502"
      ]
     },
     "execution_count": 17,
     "metadata": {},
     "output_type": "execute_result"
    }
   ],
   "source": [
    "df = pd.DataFrame(v_n, columns=['pagerank'])\n",
    "\n",
    "df['nodo'] = pages_links['pagina']\n",
    "df = df.set_index('nodo')\n",
    "\n",
    "df"
   ]
  },
  {
   "cell_type": "markdown",
   "metadata": {},
   "source": [
    "Volvemos a graficar con sus respectivos pagerank y podemos observar que C es la página con más alto pagerank, por lo tanto será mostrado primero en el motor de búsqueda."
   ]
  },
  {
   "cell_type": "code",
   "execution_count": 18,
   "metadata": {
    "tags": [
     "remove"
    ]
   },
   "outputs": [],
   "source": [
    "power_method = df.pagerank.to_dict()\n",
    "\n",
    "power_method_round = {}    \n",
    "for node in power_method:\n",
    "    if node in power_method:\n",
    "        #set the node name as the key and the label as its value \n",
    "        power_method_round[node] = round(power_method[node],2)"
   ]
  },
  {
   "cell_type": "code",
   "execution_count": 19,
   "metadata": {
    "scrolled": true,
    "tags": [
     "remove"
    ]
   },
   "outputs": [
    {
     "name": "stdout",
     "output_type": "stream",
     "text": [
      "{'A': 'A:0.13', 'B': 'B:0.19', 'C': 'C:0.37', 'D': 'D:0.31'}\n"
     ]
    },
    {
     "data": {
      "image/png": "[encoded data removed]",
      "text/plain": [
       "<Figure size 432x288 with 1 Axes>"
      ]
     },
     "metadata": {},
     "output_type": "display_data"
    }
   ],
   "source": [
    "G = nx.DiGraph()\n",
    "\n",
    "for nodo in power_method:\n",
    "    G.add_node(nodo)\n",
    "\n",
    "for page, outlinks in zip(pages_links['pagina'],pages_links['outlinks']):\n",
    "    for outlink in outlinks:\n",
    "        G.add_edge(page, outlink)\n",
    "\n",
    "pos = nx.spring_layout(G)\n",
    "\n",
    "labels = {}    \n",
    "for node in G.nodes():\n",
    "    if node in power_method:\n",
    "        #set the node name as the key and the label as its value \n",
    "        labels[node] = \"{}:{}\".format(node,round(power_method[node],2))\n",
    "\n",
    "# Es lo mismo que power_method pero redondeado        \n",
    "print(labels)\n",
    "\n",
    "nx.draw_networkx_nodes(G, pos, node_color='#a0a88a', node_size=400)\n",
    "nx.draw_networkx_labels(G, pos, labels=labels, font_weight=\"bold\")\n",
    "nx.draw_networkx_edges(G, pos, edge_color='#305029', width=1.8, arrows = True, style='dashed')\n",
    "\n",
    "plt.show()"
   ]
  },
  {
   "cell_type": "markdown",
   "metadata": {},
   "source": [
    "## Referencias:\n",
    "\n",
    "- [PageRank](https://www.geeksforgeeks.org/page-rank-algorithm-implementation/)\n",
    "- [Método de la potencia](https://video.search.yahoo.com/yhs/search?fr=yhs-ddc-linuxmint&hsimp=yhs-linuxmint&hspart=ddc&p=page+rank#id=9&vid=b35a1c4b4379bde2aeb371cd71f68b6b&action=view)\n",
    "- [Ejemplo](https://github.com/lecepe00/PageRank-eigenvectores-eigenvalores/tree/main/Implementacion)"
   ]
  }
 ],
 "metadata": {
  "celltoolbar": "Tags",
  "kernelspec": {
   "display_name": "Python 3",
   "language": "python",
   "name": "python3"
  },
  "language_info": {
   "codemirror_mode": {
    "name": "ipython",
    "version": 3
   },
   "file_extension": ".py",
   "mimetype": "text/x-python",
   "name": "python",
   "nbconvert_exporter": "python",
   "pygments_lexer": "ipython3",
   "version": "3.7.4"
  }
 },
 "nbformat": 4,
 "nbformat_minor": 4
}
